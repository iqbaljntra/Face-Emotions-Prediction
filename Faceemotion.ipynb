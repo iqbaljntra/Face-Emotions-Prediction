{
 "cells": [
  {
   "cell_type": "code",
   "execution_count": 2,
   "metadata": {},
   "outputs": [],
   "source": [
    "import numpy as np\n",
    "import pandas as pd\n",
    "import os\n",
    "import matplotlib.pyplot as plt\n",
    "import seaborn as sns\n",
    "import tensorflow as tf\n",
    "import keras\n",
    "from keras.preprocessing import image\n",
    "from keras.models import Sequential\n",
    "from tensorflow.keras.layers import Input, Conv2D, MaxPool2D, BatchNormalization, Flatten, Dense, Dropout\n",
    "from tensorflow.keras.preprocessing.image import ImageDataGenerator\n",
    "import cv2\n",
    "from tensorflow.keras.applications import VGG16, InceptionResNetV2\n",
    "from keras import regularizers\n",
    "from tensorflow.keras.optimizers import Adam,RMSprop,SGD,Adamax\n",
    "from keras.callbacks import ModelCheckpoint, EarlyStopping, ReduceLROnPlateau, Callback"
   ]
  },
  {
   "cell_type": "code",
   "execution_count": 3,
   "metadata": {},
   "outputs": [],
   "source": [
    "train_dir = \"/Users/iqbaljanitra/Documents/Face Emotion Prediction/archive-6/train\"\n",
    "test_dir = \"/Users/iqbaljanitra/Documents/Face Emotion Prediction/archive-6/test\""
   ]
  },
  {
   "cell_type": "code",
   "execution_count": 4,
   "metadata": {},
   "outputs": [],
   "source": [
    "img_size = 48"
   ]
  },
  {
   "cell_type": "code",
   "execution_count": 5,
   "metadata": {},
   "outputs": [],
   "source": [
    "train_datagen = ImageDataGenerator(#rotation_range = 180,\n",
    "                                         width_shift_range = 0.1,\n",
    "                                         height_shift_range = 0.1,\n",
    "                                         horizontal_flip = True,\n",
    "                                         rescale = 1./255,\n",
    "                                         #zoom_range = 0.2,\n",
    "                                         validation_split = 0.2\n",
    "                                        )\n",
    "validation_datagen = ImageDataGenerator(rescale = 1./255,\n",
    "                                         validation_split = 0.2)"
   ]
  },
  {
   "cell_type": "code",
   "execution_count": 6,
   "metadata": {},
   "outputs": [
    {
     "name": "stdout",
     "output_type": "stream",
     "text": [
      "Found 22968 images belonging to 7 classes.\n",
      "Found 1432 images belonging to 7 classes.\n"
     ]
    }
   ],
   "source": [
    "train_generator = train_datagen.flow_from_directory(directory = train_dir,\n",
    "                                                    target_size = (img_size,img_size),\n",
    "                                                    batch_size = 64,\n",
    "                                                    color_mode = \"grayscale\",\n",
    "                                                    class_mode = \"categorical\",\n",
    "                                                    subset = \"training\"\n",
    "                                                   )\n",
    "validation_generator = validation_datagen.flow_from_directory( directory = test_dir,\n",
    "                                                              target_size = (img_size,img_size),\n",
    "                                                              batch_size = 64,\n",
    "                                                              color_mode = \"grayscale\",\n",
    "                                                              class_mode = \"categorical\",\n",
    "                                                              subset = \"validation\"\n",
    "                                                             )"
   ]
  },
  {
   "cell_type": "code",
   "execution_count": 7,
   "metadata": {},
   "outputs": [],
   "source": [
    "checkpoint = ModelCheckpoint('bestmodelshoesprediction.h5',\n",
    "                             monitor='val_loss',\n",
    "                             mode='min',\n",
    "                             save_best_only=True,\n",
    "                             verbose=1)\n",
    "\n",
    "earlystop = EarlyStopping(monitor='val_loss',\n",
    "                          min_delta=0,\n",
    "                          patience=3,\n",
    "                          verbose=1,\n",
    "                          restore_best_weights=True\n",
    "                          )\n",
    "reduce_lr = ReduceLROnPlateau(monitor='val_loss',\n",
    "                              factor=0.2,\n",
    "                              patience=3,\n",
    "                              verbose=1,\n",
    "                              min_delta=0.0001)"
   ]
  },
  {
   "cell_type": "code",
   "execution_count": 8,
   "metadata": {},
   "outputs": [
    {
     "name": "stdout",
     "output_type": "stream",
     "text": [
      "Metal device set to: Apple M1\n",
      "\n",
      "systemMemory: 8.00 GB\n",
      "maxCacheSize: 2.67 GB\n",
      "\n"
     ]
    },
    {
     "name": "stderr",
     "output_type": "stream",
     "text": [
      "2023-05-01 11:47:43.700119: I tensorflow/core/common_runtime/pluggable_device/pluggable_device_factory.cc:305] Could not identify NUMA node of platform GPU ID 0, defaulting to 0. Your kernel may not have been built with NUMA support.\n",
      "2023-05-01 11:47:43.700248: I tensorflow/core/common_runtime/pluggable_device/pluggable_device_factory.cc:271] Created TensorFlow device (/job:localhost/replica:0/task:0/device:GPU:0 with 0 MB memory) -> physical PluggableDevice (device: 0, name: METAL, pci bus id: <undefined>)\n"
     ]
    },
    {
     "name": "stdout",
     "output_type": "stream",
     "text": [
      "Model: \"model\"\n",
      "_________________________________________________________________\n",
      " Layer (type)                Output Shape              Param #   \n",
      "=================================================================\n",
      " input_1 (InputLayer)        [(None, 48, 48, 1)]       0         \n",
      "                                                                 \n",
      " conv2d (Conv2D)             (None, 48, 48, 32)        320       \n",
      "                                                                 \n",
      " conv2d_1 (Conv2D)           (None, 48, 48, 64)        18496     \n",
      "                                                                 \n",
      " batch_normalization (BatchN  (None, 48, 48, 64)       256       \n",
      " ormalization)                                                   \n",
      "                                                                 \n",
      " max_pooling2d (MaxPooling2D  (None, 24, 24, 64)       0         \n",
      " )                                                               \n",
      "                                                                 \n",
      " dropout (Dropout)           (None, 24, 24, 64)        0         \n",
      "                                                                 \n",
      " conv2d_2 (Conv2D)           (None, 24, 24, 128)       204928    \n",
      "                                                                 \n",
      " batch_normalization_1 (Batc  (None, 24, 24, 128)      512       \n",
      " hNormalization)                                                 \n",
      "                                                                 \n",
      " max_pooling2d_1 (MaxPooling  (None, 12, 12, 128)      0         \n",
      " 2D)                                                             \n",
      "                                                                 \n",
      " dropout_1 (Dropout)         (None, 12, 12, 128)       0         \n",
      "                                                                 \n",
      " conv2d_3 (Conv2D)           (None, 12, 12, 512)       590336    \n",
      "                                                                 \n",
      " batch_normalization_2 (Batc  (None, 12, 12, 512)      2048      \n",
      " hNormalization)                                                 \n",
      "                                                                 \n",
      " max_pooling2d_2 (MaxPooling  (None, 6, 6, 512)        0         \n",
      " 2D)                                                             \n",
      "                                                                 \n",
      " dropout_2 (Dropout)         (None, 6, 6, 512)         0         \n",
      "                                                                 \n",
      " conv2d_4 (Conv2D)           (None, 6, 6, 512)         2359808   \n",
      "                                                                 \n",
      " batch_normalization_3 (Batc  (None, 6, 6, 512)        2048      \n",
      " hNormalization)                                                 \n",
      "                                                                 \n",
      " max_pooling2d_3 (MaxPooling  (None, 3, 3, 512)        0         \n",
      " 2D)                                                             \n",
      "                                                                 \n",
      " dropout_3 (Dropout)         (None, 3, 3, 512)         0         \n",
      "                                                                 \n",
      " flatten (Flatten)           (None, 4608)              0         \n",
      "                                                                 \n",
      " dense (Dense)               (None, 256)               1179904   \n",
      "                                                                 \n",
      " batch_normalization_4 (Batc  (None, 256)              1024      \n",
      " hNormalization)                                                 \n",
      "                                                                 \n",
      " dropout_4 (Dropout)         (None, 256)               0         \n",
      "                                                                 \n",
      " dense_1 (Dense)             (None, 512)               131584    \n",
      "                                                                 \n",
      " batch_normalization_5 (Batc  (None, 512)              2048      \n",
      " hNormalization)                                                 \n",
      "                                                                 \n",
      " dropout_5 (Dropout)         (None, 512)               0         \n",
      "                                                                 \n",
      " dense_2 (Dense)             (None, 7)                 3591      \n",
      "                                                                 \n",
      "=================================================================\n",
      "Total params: 4,496,903\n",
      "Trainable params: 4,492,935\n",
      "Non-trainable params: 3,968\n",
      "_________________________________________________________________\n"
     ]
    },
    {
     "name": "stderr",
     "output_type": "stream",
     "text": [
      "/Users/iqbaljanitra/miniforge3/envs/tensorflow/lib/python3.10/site-packages/keras/optimizers/optimizer_v2/adam.py:110: UserWarning: The `lr` argument is deprecated, use `learning_rate` instead.\n",
      "  super(Adam, self).__init__(name, **kwargs)\n"
     ]
    }
   ],
   "source": [
    "input_layer = Input(shape=(48, 48, 1))\n",
    "conv1 = Conv2D(32, kernel_size=(3, 3), padding='same', activation='relu')(input_layer)\n",
    "conv2 = Conv2D(64, (3, 3), padding='same', activation='relu')(conv1)\n",
    "batch_norm1 = BatchNormalization()(conv2)\n",
    "maxpool1 = MaxPool2D(pool_size=(2, 2))(batch_norm1)\n",
    "dropout1 = Dropout(0.25)(maxpool1)\n",
    "\n",
    "conv3 = Conv2D(128, (5, 5), padding='same', activation='relu')(dropout1)\n",
    "batch_norm2 = BatchNormalization()(conv3)\n",
    "maxpool2 = MaxPool2D(pool_size=(2, 2))(batch_norm2)\n",
    "dropout2 = Dropout(0.25)(maxpool2)\n",
    "\n",
    "conv4 = Conv2D(512, (3, 3), padding='same', activation='relu', kernel_regularizer=regularizers.l2(0.01))(dropout2)\n",
    "batch_norm3 = BatchNormalization()(conv4)\n",
    "maxpool3 = MaxPool2D(pool_size=(2, 2))(batch_norm3)\n",
    "dropout3 = Dropout(0.25)(maxpool3)\n",
    "\n",
    "conv5 = Conv2D(512, (3, 3), padding='same', activation='relu', kernel_regularizer=regularizers.l2(0.01))(dropout3)\n",
    "batch_norm4 = BatchNormalization()(conv5)\n",
    "maxpool4 = MaxPool2D(pool_size=(2, 2))(batch_norm4)\n",
    "dropout4 = Dropout(0.25)(maxpool4)\n",
    "\n",
    "flatten = Flatten()(dropout4)\n",
    "dense1 = Dense(256, activation='relu')(flatten)\n",
    "batch_norm5 = BatchNormalization()(dense1)\n",
    "dropout5 = Dropout(0.25)(batch_norm5)\n",
    "\n",
    "dense2 = Dense(512, activation='relu')(dropout5)\n",
    "batch_norm6 = BatchNormalization()(dense2)\n",
    "dropout6 = Dropout(0.25)(batch_norm6)\n",
    "\n",
    "output_layer = Dense(7, activation='softmax')(dropout6)\n",
    "\n",
    "model = tf.keras.Model(inputs=input_layer, outputs=output_layer)\n",
    "model.compile(optimizer=Adam(lr=0.0001), loss='categorical_crossentropy', metrics=['accuracy'])\n",
    "model.summary()"
   ]
  },
  {
   "cell_type": "code",
   "execution_count": 9,
   "metadata": {},
   "outputs": [],
   "source": [
    "epochs = 45\n",
    "batch_size = 254"
   ]
  },
  {
   "cell_type": "code",
   "execution_count": 10,
   "metadata": {},
   "outputs": [
    {
     "name": "stdout",
     "output_type": "stream",
     "text": [
      "Epoch 1/45\n"
     ]
    },
    {
     "name": "stderr",
     "output_type": "stream",
     "text": [
      "2023-05-01 11:47:44.170984: W tensorflow/core/platform/profile_utils/cpu_utils.cc:128] Failed to get CPU frequency: 0 Hz\n",
      "2023-05-01 11:47:44.703915: I tensorflow/core/grappler/optimizers/custom_graph_optimizer_registry.cc:113] Plugin optimizer for device_type GPU is enabled.\n"
     ]
    },
    {
     "name": "stdout",
     "output_type": "stream",
     "text": [
      "359/359 [==============================] - ETA: 0s - loss: 9.1097 - accuracy: 0.2086"
     ]
    },
    {
     "name": "stderr",
     "output_type": "stream",
     "text": [
      "2023-05-01 11:48:35.469168: I tensorflow/core/grappler/optimizers/custom_graph_optimizer_registry.cc:113] Plugin optimizer for device_type GPU is enabled.\n"
     ]
    },
    {
     "name": "stdout",
     "output_type": "stream",
     "text": [
      "\n",
      "Epoch 1: val_loss improved from inf to 8.94927, saving model to bestmodelshoesprediction.h5\n",
      "359/359 [==============================] - 52s 143ms/step - loss: 9.1097 - accuracy: 0.2086 - val_loss: 8.9493 - val_accuracy: 0.1718 - lr: 1.0000e-04\n",
      "Epoch 2/45\n",
      "359/359 [==============================] - ETA: 0s - loss: 8.0008 - accuracy: 0.2446\n",
      "Epoch 2: val_loss improved from 8.94927 to 7.40735, saving model to bestmodelshoesprediction.h5\n",
      "359/359 [==============================] - 50s 139ms/step - loss: 8.0008 - accuracy: 0.2446 - val_loss: 7.4073 - val_accuracy: 0.2591 - lr: 1.0000e-04\n",
      "Epoch 3/45\n",
      "359/359 [==============================] - ETA: 0s - loss: 6.9449 - accuracy: 0.2747\n",
      "Epoch 3: val_loss improved from 7.40735 to 6.38206, saving model to bestmodelshoesprediction.h5\n",
      "359/359 [==============================] - 50s 139ms/step - loss: 6.9449 - accuracy: 0.2747 - val_loss: 6.3821 - val_accuracy: 0.2905 - lr: 1.0000e-04\n",
      "Epoch 4/45\n",
      "359/359 [==============================] - ETA: 0s - loss: 5.9205 - accuracy: 0.3071\n",
      "Epoch 4: val_loss improved from 6.38206 to 5.39642, saving model to bestmodelshoesprediction.h5\n",
      "359/359 [==============================] - 50s 139ms/step - loss: 5.9205 - accuracy: 0.3071 - val_loss: 5.3964 - val_accuracy: 0.3184 - lr: 1.0000e-04\n",
      "Epoch 5/45\n",
      "359/359 [==============================] - ETA: 0s - loss: 4.9969 - accuracy: 0.3465\n",
      "Epoch 5: val_loss improved from 5.39642 to 4.58361, saving model to bestmodelshoesprediction.h5\n",
      "359/359 [==============================] - 50s 139ms/step - loss: 4.9969 - accuracy: 0.3465 - val_loss: 4.5836 - val_accuracy: 0.3694 - lr: 1.0000e-04\n",
      "Epoch 6/45\n",
      "359/359 [==============================] - ETA: 0s - loss: 4.2007 - accuracy: 0.3826\n",
      "Epoch 6: val_loss improved from 4.58361 to 3.85112, saving model to bestmodelshoesprediction.h5\n",
      "359/359 [==============================] - 51s 142ms/step - loss: 4.2007 - accuracy: 0.3826 - val_loss: 3.8511 - val_accuracy: 0.3897 - lr: 1.0000e-04\n",
      "Epoch 7/45\n",
      "359/359 [==============================] - ETA: 0s - loss: 3.5625 - accuracy: 0.4039\n",
      "Epoch 7: val_loss improved from 3.85112 to 3.28837, saving model to bestmodelshoesprediction.h5\n",
      "359/359 [==============================] - 52s 146ms/step - loss: 3.5625 - accuracy: 0.4039 - val_loss: 3.2884 - val_accuracy: 0.4211 - lr: 1.0000e-04\n",
      "Epoch 8/45\n",
      "359/359 [==============================] - ETA: 0s - loss: 3.0397 - accuracy: 0.4344\n",
      "Epoch 8: val_loss improved from 3.28837 to 2.86020, saving model to bestmodelshoesprediction.h5\n",
      "359/359 [==============================] - 51s 142ms/step - loss: 3.0397 - accuracy: 0.4344 - val_loss: 2.8602 - val_accuracy: 0.4469 - lr: 1.0000e-04\n",
      "Epoch 9/45\n",
      "359/359 [==============================] - ETA: 0s - loss: 2.6552 - accuracy: 0.4568\n",
      "Epoch 9: val_loss improved from 2.86020 to 2.48537, saving model to bestmodelshoesprediction.h5\n",
      "359/359 [==============================] - 52s 145ms/step - loss: 2.6552 - accuracy: 0.4568 - val_loss: 2.4854 - val_accuracy: 0.4749 - lr: 1.0000e-04\n",
      "Epoch 10/45\n",
      "359/359 [==============================] - ETA: 0s - loss: 2.3396 - accuracy: 0.4849\n",
      "Epoch 10: val_loss improved from 2.48537 to 2.18481, saving model to bestmodelshoesprediction.h5\n",
      "359/359 [==============================] - 53s 148ms/step - loss: 2.3396 - accuracy: 0.4849 - val_loss: 2.1848 - val_accuracy: 0.5105 - lr: 1.0000e-04\n",
      "Epoch 11/45\n",
      "359/359 [==============================] - ETA: 0s - loss: 2.1201 - accuracy: 0.5006\n",
      "Epoch 11: val_loss improved from 2.18481 to 1.89614, saving model to bestmodelshoesprediction.h5\n",
      "359/359 [==============================] - 56s 156ms/step - loss: 2.1201 - accuracy: 0.5006 - val_loss: 1.8961 - val_accuracy: 0.5608 - lr: 1.0000e-04\n",
      "Epoch 12/45\n",
      "359/359 [==============================] - ETA: 0s - loss: 1.9376 - accuracy: 0.5134\n",
      "Epoch 12: val_loss improved from 1.89614 to 1.81600, saving model to bestmodelshoesprediction.h5\n",
      "359/359 [==============================] - 56s 156ms/step - loss: 1.9376 - accuracy: 0.5134 - val_loss: 1.8160 - val_accuracy: 0.5391 - lr: 1.0000e-04\n",
      "Epoch 13/45\n",
      "359/359 [==============================] - ETA: 0s - loss: 1.8165 - accuracy: 0.5278\n",
      "Epoch 13: val_loss improved from 1.81600 to 1.68444, saving model to bestmodelshoesprediction.h5\n",
      "359/359 [==============================] - 54s 149ms/step - loss: 1.8165 - accuracy: 0.5278 - val_loss: 1.6844 - val_accuracy: 0.5670 - lr: 1.0000e-04\n",
      "Epoch 14/45\n",
      "359/359 [==============================] - ETA: 0s - loss: 1.7225 - accuracy: 0.5391\n",
      "Epoch 14: val_loss improved from 1.68444 to 1.60666, saving model to bestmodelshoesprediction.h5\n",
      "359/359 [==============================] - 53s 149ms/step - loss: 1.7225 - accuracy: 0.5391 - val_loss: 1.6067 - val_accuracy: 0.5838 - lr: 1.0000e-04\n",
      "Epoch 15/45\n",
      "359/359 [==============================] - ETA: 0s - loss: 1.6506 - accuracy: 0.5461\n",
      "Epoch 15: val_loss improved from 1.60666 to 1.58464, saving model to bestmodelshoesprediction.h5\n",
      "359/359 [==============================] - 54s 150ms/step - loss: 1.6506 - accuracy: 0.5461 - val_loss: 1.5846 - val_accuracy: 0.5663 - lr: 1.0000e-04\n",
      "Epoch 16/45\n",
      "359/359 [==============================] - ETA: 0s - loss: 1.5924 - accuracy: 0.5565\n",
      "Epoch 16: val_loss improved from 1.58464 to 1.54361, saving model to bestmodelshoesprediction.h5\n",
      "359/359 [==============================] - 58s 163ms/step - loss: 1.5924 - accuracy: 0.5565 - val_loss: 1.5436 - val_accuracy: 0.5852 - lr: 1.0000e-04\n",
      "Epoch 17/45\n",
      "359/359 [==============================] - ETA: 0s - loss: 1.5504 - accuracy: 0.5644\n",
      "Epoch 17: val_loss improved from 1.54361 to 1.49233, saving model to bestmodelshoesprediction.h5\n",
      "359/359 [==============================] - 61s 171ms/step - loss: 1.5504 - accuracy: 0.5644 - val_loss: 1.4923 - val_accuracy: 0.5936 - lr: 1.0000e-04\n",
      "Epoch 18/45\n",
      "359/359 [==============================] - ETA: 0s - loss: 1.5147 - accuracy: 0.5754\n",
      "Epoch 18: val_loss improved from 1.49233 to 1.45877, saving model to bestmodelshoesprediction.h5\n",
      "359/359 [==============================] - 57s 158ms/step - loss: 1.5147 - accuracy: 0.5754 - val_loss: 1.4588 - val_accuracy: 0.5873 - lr: 1.0000e-04\n",
      "Epoch 19/45\n",
      "359/359 [==============================] - ETA: 0s - loss: 1.4932 - accuracy: 0.5780\n",
      "Epoch 19: val_loss improved from 1.45877 to 1.42651, saving model to bestmodelshoesprediction.h5\n",
      "359/359 [==============================] - 58s 162ms/step - loss: 1.4932 - accuracy: 0.5780 - val_loss: 1.4265 - val_accuracy: 0.6152 - lr: 1.0000e-04\n",
      "Epoch 20/45\n",
      "359/359 [==============================] - ETA: 0s - loss: 1.4668 - accuracy: 0.5843\n",
      "Epoch 20: val_loss did not improve from 1.42651\n",
      "359/359 [==============================] - 58s 162ms/step - loss: 1.4668 - accuracy: 0.5843 - val_loss: 1.4567 - val_accuracy: 0.5936 - lr: 1.0000e-04\n",
      "Epoch 21/45\n",
      "359/359 [==============================] - ETA: 0s - loss: 1.4641 - accuracy: 0.5892\n",
      "Epoch 21: val_loss improved from 1.42651 to 1.42629, saving model to bestmodelshoesprediction.h5\n",
      "359/359 [==============================] - 59s 163ms/step - loss: 1.4641 - accuracy: 0.5892 - val_loss: 1.4263 - val_accuracy: 0.6117 - lr: 1.0000e-04\n",
      "Epoch 22/45\n",
      "359/359 [==============================] - ETA: 0s - loss: 1.4435 - accuracy: 0.5968\n",
      "Epoch 22: val_loss improved from 1.42629 to 1.39869, saving model to bestmodelshoesprediction.h5\n",
      "359/359 [==============================] - 59s 164ms/step - loss: 1.4435 - accuracy: 0.5968 - val_loss: 1.3987 - val_accuracy: 0.6138 - lr: 1.0000e-04\n",
      "Epoch 23/45\n",
      "359/359 [==============================] - ETA: 0s - loss: 1.4231 - accuracy: 0.5999\n",
      "Epoch 23: val_loss did not improve from 1.39869\n",
      "359/359 [==============================] - 59s 165ms/step - loss: 1.4231 - accuracy: 0.5999 - val_loss: 1.4236 - val_accuracy: 0.5985 - lr: 1.0000e-04\n",
      "Epoch 24/45\n",
      "359/359 [==============================] - ETA: 0s - loss: 1.4149 - accuracy: 0.6061\n",
      "Epoch 24: val_loss did not improve from 1.39869\n",
      "359/359 [==============================] - 59s 165ms/step - loss: 1.4149 - accuracy: 0.6061 - val_loss: 1.4299 - val_accuracy: 0.6075 - lr: 1.0000e-04\n",
      "Epoch 25/45\n",
      "359/359 [==============================] - ETA: 0s - loss: 1.3989 - accuracy: 0.6085\n",
      "Epoch 25: val_loss did not improve from 1.39869\n",
      "\n",
      "Epoch 25: ReduceLROnPlateau reducing learning rate to 1.9999999494757503e-05.\n",
      "359/359 [==============================] - 60s 168ms/step - loss: 1.3989 - accuracy: 0.6085 - val_loss: 1.4008 - val_accuracy: 0.6138 - lr: 1.0000e-04\n",
      "Epoch 26/45\n",
      "359/359 [==============================] - ETA: 0s - loss: 1.3399 - accuracy: 0.6266\n",
      "Epoch 26: val_loss improved from 1.39869 to 1.31513, saving model to bestmodelshoesprediction.h5\n",
      "359/359 [==============================] - 61s 169ms/step - loss: 1.3399 - accuracy: 0.6266 - val_loss: 1.3151 - val_accuracy: 0.6508 - lr: 2.0000e-05\n",
      "Epoch 27/45\n",
      "359/359 [==============================] - ETA: 0s - loss: 1.2943 - accuracy: 0.6378\n",
      "Epoch 27: val_loss improved from 1.31513 to 1.29300, saving model to bestmodelshoesprediction.h5\n",
      "359/359 [==============================] - 61s 170ms/step - loss: 1.2943 - accuracy: 0.6378 - val_loss: 1.2930 - val_accuracy: 0.6529 - lr: 2.0000e-05\n",
      "Epoch 28/45\n",
      "359/359 [==============================] - ETA: 0s - loss: 1.2651 - accuracy: 0.6473\n",
      "Epoch 28: val_loss improved from 1.29300 to 1.27404, saving model to bestmodelshoesprediction.h5\n",
      "359/359 [==============================] - 61s 170ms/step - loss: 1.2651 - accuracy: 0.6473 - val_loss: 1.2740 - val_accuracy: 0.6571 - lr: 2.0000e-05\n",
      "Epoch 29/45\n",
      "359/359 [==============================] - ETA: 0s - loss: 1.2455 - accuracy: 0.6561\n",
      "Epoch 29: val_loss improved from 1.27404 to 1.23911, saving model to bestmodelshoesprediction.h5\n",
      "359/359 [==============================] - 62s 171ms/step - loss: 1.2455 - accuracy: 0.6561 - val_loss: 1.2391 - val_accuracy: 0.6620 - lr: 2.0000e-05\n",
      "Epoch 30/45\n",
      "359/359 [==============================] - ETA: 0s - loss: 1.2197 - accuracy: 0.6576\n",
      "Epoch 30: val_loss did not improve from 1.23911\n",
      "359/359 [==============================] - 62s 173ms/step - loss: 1.2197 - accuracy: 0.6576 - val_loss: 1.2424 - val_accuracy: 0.6655 - lr: 2.0000e-05\n",
      "Epoch 31/45\n",
      "359/359 [==============================] - ETA: 0s - loss: 1.1992 - accuracy: 0.6603\n",
      "Epoch 31: val_loss improved from 1.23911 to 1.22415, saving model to bestmodelshoesprediction.h5\n",
      "359/359 [==============================] - 62s 174ms/step - loss: 1.1992 - accuracy: 0.6603 - val_loss: 1.2241 - val_accuracy: 0.6704 - lr: 2.0000e-05\n",
      "Epoch 32/45\n",
      "359/359 [==============================] - ETA: 0s - loss: 1.1932 - accuracy: 0.6608\n",
      "Epoch 32: val_loss improved from 1.22415 to 1.21931, saving model to bestmodelshoesprediction.h5\n",
      "359/359 [==============================] - 63s 175ms/step - loss: 1.1932 - accuracy: 0.6608 - val_loss: 1.2193 - val_accuracy: 0.6648 - lr: 2.0000e-05\n",
      "Epoch 33/45\n",
      "359/359 [==============================] - ETA: 0s - loss: 1.1686 - accuracy: 0.6687\n",
      "Epoch 33: val_loss improved from 1.21931 to 1.19685, saving model to bestmodelshoesprediction.h5\n",
      "359/359 [==============================] - 62s 174ms/step - loss: 1.1686 - accuracy: 0.6687 - val_loss: 1.1968 - val_accuracy: 0.6676 - lr: 2.0000e-05\n",
      "Epoch 34/45\n",
      "359/359 [==============================] - ETA: 0s - loss: 1.1508 - accuracy: 0.6703\n",
      "Epoch 34: val_loss improved from 1.19685 to 1.19194, saving model to bestmodelshoesprediction.h5\n",
      "359/359 [==============================] - 63s 176ms/step - loss: 1.1508 - accuracy: 0.6703 - val_loss: 1.1919 - val_accuracy: 0.6641 - lr: 2.0000e-05\n",
      "Epoch 35/45\n",
      "359/359 [==============================] - ETA: 0s - loss: 1.1416 - accuracy: 0.6722\n",
      "Epoch 35: val_loss did not improve from 1.19194\n",
      "359/359 [==============================] - 64s 178ms/step - loss: 1.1416 - accuracy: 0.6722 - val_loss: 1.2013 - val_accuracy: 0.6711 - lr: 2.0000e-05\n",
      "Epoch 36/45\n",
      "359/359 [==============================] - ETA: 0s - loss: 1.1315 - accuracy: 0.6734\n",
      "Epoch 36: val_loss improved from 1.19194 to 1.18501, saving model to bestmodelshoesprediction.h5\n",
      "359/359 [==============================] - 64s 177ms/step - loss: 1.1315 - accuracy: 0.6734 - val_loss: 1.1850 - val_accuracy: 0.6648 - lr: 2.0000e-05\n",
      "Epoch 37/45\n",
      "359/359 [==============================] - ETA: 0s - loss: 1.1141 - accuracy: 0.6809\n",
      "Epoch 37: val_loss improved from 1.18501 to 1.16120, saving model to bestmodelshoesprediction.h5\n",
      "359/359 [==============================] - 64s 178ms/step - loss: 1.1141 - accuracy: 0.6809 - val_loss: 1.1612 - val_accuracy: 0.6858 - lr: 2.0000e-05\n",
      "Epoch 38/45\n",
      "359/359 [==============================] - ETA: 0s - loss: 1.1059 - accuracy: 0.6812\n",
      "Epoch 38: val_loss did not improve from 1.16120\n",
      "359/359 [==============================] - 63s 176ms/step - loss: 1.1059 - accuracy: 0.6812 - val_loss: 1.1855 - val_accuracy: 0.6732 - lr: 2.0000e-05\n",
      "Epoch 39/45\n",
      "359/359 [==============================] - ETA: 0s - loss: 1.1016 - accuracy: 0.6846\n",
      "Epoch 39: val_loss improved from 1.16120 to 1.15949, saving model to bestmodelshoesprediction.h5\n",
      "359/359 [==============================] - 65s 181ms/step - loss: 1.1016 - accuracy: 0.6846 - val_loss: 1.1595 - val_accuracy: 0.6830 - lr: 2.0000e-05\n",
      "Epoch 40/45\n",
      "359/359 [==============================] - ETA: 0s - loss: 1.0852 - accuracy: 0.6846\n",
      "Epoch 40: val_loss improved from 1.15949 to 1.15919, saving model to bestmodelshoesprediction.h5\n",
      "359/359 [==============================] - 63s 174ms/step - loss: 1.0852 - accuracy: 0.6846 - val_loss: 1.1592 - val_accuracy: 0.6732 - lr: 2.0000e-05\n",
      "Epoch 41/45\n",
      "359/359 [==============================] - ETA: 0s - loss: 1.0785 - accuracy: 0.6883\n",
      "Epoch 41: val_loss did not improve from 1.15919\n",
      "359/359 [==============================] - 62s 174ms/step - loss: 1.0785 - accuracy: 0.6883 - val_loss: 1.1739 - val_accuracy: 0.6676 - lr: 2.0000e-05\n",
      "Epoch 42/45\n",
      "359/359 [==============================] - ETA: 0s - loss: 1.0593 - accuracy: 0.6980\n",
      "Epoch 42: val_loss did not improve from 1.15919\n",
      "359/359 [==============================] - 63s 177ms/step - loss: 1.0593 - accuracy: 0.6980 - val_loss: 1.1676 - val_accuracy: 0.6697 - lr: 2.0000e-05\n",
      "Epoch 43/45\n",
      "359/359 [==============================] - ETA: 0s - loss: 1.0615 - accuracy: 0.6961\n",
      "Epoch 43: val_loss improved from 1.15919 to 1.15348, saving model to bestmodelshoesprediction.h5\n",
      "359/359 [==============================] - 64s 178ms/step - loss: 1.0615 - accuracy: 0.6961 - val_loss: 1.1535 - val_accuracy: 0.6781 - lr: 2.0000e-05\n",
      "Epoch 44/45\n",
      "359/359 [==============================] - ETA: 0s - loss: 1.0560 - accuracy: 0.6931\n",
      "Epoch 44: val_loss did not improve from 1.15348\n",
      "359/359 [==============================] - 63s 174ms/step - loss: 1.0560 - accuracy: 0.6931 - val_loss: 1.1726 - val_accuracy: 0.6683 - lr: 2.0000e-05\n",
      "Epoch 45/45\n",
      "359/359 [==============================] - ETA: 0s - loss: 1.0414 - accuracy: 0.7010\n",
      "Epoch 45: val_loss did not improve from 1.15348\n",
      "359/359 [==============================] - 62s 173ms/step - loss: 1.0414 - accuracy: 0.7010 - val_loss: 1.1670 - val_accuracy: 0.6746 - lr: 2.0000e-05\n"
     ]
    }
   ],
   "source": [
    "history = model.fit(x = train_generator,epochs = epochs,validation_data = validation_generator, callbacks=[checkpoint, reduce_lr])"
   ]
  },
  {
   "cell_type": "code",
   "execution_count": 12,
   "metadata": {},
   "outputs": [
    {
     "data": {
      "text/plain": [
       "Text(0.5, 0, 'Epoch')"
      ]
     },
     "execution_count": 12,
     "metadata": {},
     "output_type": "execute_result"
    },
    {
     "data": {
      "image/png": "[encoded data removed]",
      "text/plain": [
       "<Figure size 1600x500 with 2 Axes>"
      ]
     },
     "metadata": {},
     "output_type": "display_data"
    }
   ],
   "source": [
    "epoch=45\n",
    "\n",
    "fig, ax = plt.subplots(ncols=2,figsize=(16,5))\n",
    "ax[0].plot(range(1,epoch+1),history.history['loss'],label='loss')\n",
    "ax[0].plot(range(1,epoch+1),history.history['val_loss'],label='val_loss')\n",
    "ax[0].set_title('Loss')\n",
    "ax[0].legend()\n",
    "ax[0].set_xlabel('Epoch')\n",
    "#ax[0].set_ylim(0,0.01)\n",
    "\n",
    "ax[1].plot(range(1,epoch+1),history.history['accuracy'],label='accuracy')\n",
    "ax[1].plot(range(1,epoch+1),history.history['val_accuracy'],label='val_accuracy')\n",
    "ax[1].set_title('Accuracy')\n",
    "ax[1].legend()\n",
    "ax[1].set_xlabel('Epoch')"
   ]
  }
 ],
 "metadata": {
  "kernelspec": {
   "display_name": "tensorflow",
   "language": "python",
   "name": "python3"
  },
  "language_info": {
   "codemirror_mode": {
    "name": "ipython",
    "version": 3
   },
   "file_extension": ".py",
   "mimetype": "text/x-python",
   "name": "python",
   "nbconvert_exporter": "python",
   "pygments_lexer": "ipython3",
   "version": "3.10.10"
  },
  "orig_nbformat": 4,
  "vscode": {
   "interpreter": {
    "hash": "73a20ee111e202b5885bf4967c631ad33e4dd2fc605a280f260d1da0f02a6410"
   }
  }
 },
 "nbformat": 4,
 "nbformat_minor": 2
}
