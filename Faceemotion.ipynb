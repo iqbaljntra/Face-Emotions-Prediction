{
 "cells": [
  {
   "cell_type": "code",
   "execution_count": 1,
   "metadata": {},
   "outputs": [],
   "source": [
    "import numpy as np\n",
    "import pandas as pd\n",
    "import os\n",
    "import matplotlib.pyplot as plt\n",
    "import seaborn as sns\n",
    "import tensorflow as tf\n",
    "import keras\n",
    "from keras.preprocessing import image\n",
    "from keras.models import Sequential\n",
    "from tensorflow.keras.layers import Input, Conv2D, MaxPool2D, BatchNormalization, Flatten, Dense, Dropout\n",
    "from tensorflow.keras.preprocessing.image import ImageDataGenerator\n",
    "import cv2\n",
    "from tensorflow.keras.applications import VGG16, InceptionResNetV2\n",
    "from keras import regularizers\n",
    "from tensorflow.keras.optimizers import Adam,RMSprop,SGD,Adamax\n",
    "from keras.callbacks import ModelCheckpoint, EarlyStopping, ReduceLROnPlateau, Callback\n",
    "from transformers import BertTokenizer"
   ]
  },
  {
   "cell_type": "code",
   "execution_count": 2,
   "metadata": {},
   "outputs": [],
   "source": [
    "train_dir = \"/Users/iqbaljanitra/Documents/Face Emotion Prediction/archive-6/train\"\n",
    "test_dir = \"/Users/iqbaljanitra/Documents/Face Emotion Prediction/archive-6/test\""
   ]
  },
  {
   "cell_type": "code",
   "execution_count": 3,
   "metadata": {},
   "outputs": [],
   "source": [
    "img_size = 48"
   ]
  },
  {
   "cell_type": "code",
   "execution_count": 4,
   "metadata": {},
   "outputs": [],
   "source": [
    "train_datagen = ImageDataGenerator(width_shift_range = 0.1,\n",
    "                                         height_shift_range = 0.1,\n",
    "                                         horizontal_flip = True,\n",
    "                                         rescale = 1./255,\n",
    "                                         validation_split = 0.2\n",
    "                                        )\n",
    "validation_datagen = ImageDataGenerator(rescale = 1./255,\n",
    "                                         validation_split = 0.2)"
   ]
  },
  {
   "cell_type": "code",
   "execution_count": 5,
   "metadata": {},
   "outputs": [
    {
     "name": "stdout",
     "output_type": "stream",
     "text": [
      "Found 22968 images belonging to 7 classes.\n",
      "Found 1432 images belonging to 7 classes.\n"
     ]
    }
   ],
   "source": [
    "train_generator = train_datagen.flow_from_directory(directory = train_dir,\n",
    "                                                    target_size = (img_size,img_size),\n",
    "                                                    batch_size = 64,\n",
    "                                                    color_mode = \"grayscale\",\n",
    "                                                    class_mode = \"categorical\",\n",
    "                                                    subset = \"training\"\n",
    "                                                   )\n",
    "validation_generator = validation_datagen.flow_from_directory( directory = test_dir,\n",
    "                                                              target_size = (img_size,img_size),\n",
    "                                                              batch_size = 64,\n",
    "                                                              color_mode = \"grayscale\",\n",
    "                                                              class_mode = \"categorical\",\n",
    "                                                              subset = \"validation\"\n",
    "                                                             )"
   ]
  },
  {
   "cell_type": "code",
   "execution_count": 6,
   "metadata": {},
   "outputs": [],
   "source": [
    "checkpoint = ModelCheckpoint('bestmodelprediction.h5',\n",
    "                             monitor='val_loss',\n",
    "                             mode='min',\n",
    "                             save_best_only=True,\n",
    "                             verbose=1)\n",
    "\n",
    "earlystop = EarlyStopping(monitor='val_loss',\n",
    "                          min_delta=0,\n",
    "                          patience=3,\n",
    "                          verbose=1,\n",
    "                          restore_best_weights=True\n",
    "                          )\n",
    "reduce_lr = ReduceLROnPlateau(monitor='val_loss',\n",
    "                              factor=0.2,\n",
    "                              patience=3,\n",
    "                              verbose=1,\n",
    "                              min_delta=0.0001)"
   ]
  },
  {
   "cell_type": "code",
   "execution_count": 7,
   "metadata": {},
   "outputs": [
    {
     "name": "stdout",
     "output_type": "stream",
     "text": [
      "Metal device set to: Apple M1\n",
      "\n",
      "systemMemory: 8.00 GB\n",
      "maxCacheSize: 2.67 GB\n",
      "\n"
     ]
    },
    {
     "name": "stderr",
     "output_type": "stream",
     "text": [
      "2023-05-03 11:47:17.117190: I tensorflow/core/common_runtime/pluggable_device/pluggable_device_factory.cc:305] Could not identify NUMA node of platform GPU ID 0, defaulting to 0. Your kernel may not have been built with NUMA support.\n",
      "2023-05-03 11:47:17.117599: I tensorflow/core/common_runtime/pluggable_device/pluggable_device_factory.cc:271] Created TensorFlow device (/job:localhost/replica:0/task:0/device:GPU:0 with 0 MB memory) -> physical PluggableDevice (device: 0, name: METAL, pci bus id: <undefined>)\n"
     ]
    },
    {
     "name": "stdout",
     "output_type": "stream",
     "text": [
      "Model: \"model\"\n",
      "_________________________________________________________________\n",
      " Layer (type)                Output Shape              Param #   \n",
      "=================================================================\n",
      " input_1 (InputLayer)        [(None, 48, 48, 1)]       0         \n",
      "                                                                 \n",
      " conv2d (Conv2D)             (None, 48, 48, 32)        320       \n",
      "                                                                 \n",
      " conv2d_1 (Conv2D)           (None, 48, 48, 64)        18496     \n",
      "                                                                 \n",
      " batch_normalization (BatchN  (None, 48, 48, 64)       256       \n",
      " ormalization)                                                   \n",
      "                                                                 \n",
      " max_pooling2d (MaxPooling2D  (None, 24, 24, 64)       0         \n",
      " )                                                               \n",
      "                                                                 \n",
      " dropout (Dropout)           (None, 24, 24, 64)        0         \n",
      "                                                                 \n",
      " conv2d_2 (Conv2D)           (None, 24, 24, 128)       204928    \n",
      "                                                                 \n",
      " batch_normalization_1 (Batc  (None, 24, 24, 128)      512       \n",
      " hNormalization)                                                 \n",
      "                                                                 \n",
      " max_pooling2d_1 (MaxPooling  (None, 12, 12, 128)      0         \n",
      " 2D)                                                             \n",
      "                                                                 \n",
      " dropout_1 (Dropout)         (None, 12, 12, 128)       0         \n",
      "                                                                 \n",
      " conv2d_3 (Conv2D)           (None, 12, 12, 512)       590336    \n",
      "                                                                 \n",
      " batch_normalization_2 (Batc  (None, 12, 12, 512)      2048      \n",
      " hNormalization)                                                 \n",
      "                                                                 \n",
      " max_pooling2d_2 (MaxPooling  (None, 6, 6, 512)        0         \n",
      " 2D)                                                             \n",
      "                                                                 \n",
      " dropout_2 (Dropout)         (None, 6, 6, 512)         0         \n",
      "                                                                 \n",
      " conv2d_4 (Conv2D)           (None, 6, 6, 512)         2359808   \n",
      "                                                                 \n",
      " batch_normalization_3 (Batc  (None, 6, 6, 512)        2048      \n",
      " hNormalization)                                                 \n",
      "                                                                 \n",
      " max_pooling2d_3 (MaxPooling  (None, 3, 3, 512)        0         \n",
      " 2D)                                                             \n",
      "                                                                 \n",
      " dropout_3 (Dropout)         (None, 3, 3, 512)         0         \n",
      "                                                                 \n",
      " flatten (Flatten)           (None, 4608)              0         \n",
      "                                                                 \n",
      " dense (Dense)               (None, 256)               1179904   \n",
      "                                                                 \n",
      " batch_normalization_4 (Batc  (None, 256)              1024      \n",
      " hNormalization)                                                 \n",
      "                                                                 \n",
      " dropout_4 (Dropout)         (None, 256)               0         \n",
      "                                                                 \n",
      " dense_1 (Dense)             (None, 512)               131584    \n",
      "                                                                 \n",
      " batch_normalization_5 (Batc  (None, 512)              2048      \n",
      " hNormalization)                                                 \n",
      "                                                                 \n",
      " dropout_5 (Dropout)         (None, 512)               0         \n",
      "                                                                 \n",
      " dense_2 (Dense)             (None, 7)                 3591      \n",
      "                                                                 \n",
      "=================================================================\n",
      "Total params: 4,496,903\n",
      "Trainable params: 4,492,935\n",
      "Non-trainable params: 3,968\n",
      "_________________________________________________________________\n"
     ]
    },
    {
     "name": "stderr",
     "output_type": "stream",
     "text": [
      "/Users/iqbaljanitra/miniforge3/envs/tensorflow/lib/python3.10/site-packages/keras/optimizers/optimizer_v2/adam.py:110: UserWarning: The `lr` argument is deprecated, use `learning_rate` instead.\n",
      "  super(Adam, self).__init__(name, **kwargs)\n"
     ]
    }
   ],
   "source": [
    "input_layer = Input(shape=(48, 48, 1))\n",
    "conv1 = Conv2D(32, kernel_size=(3, 3), padding='same', activation='relu')(input_layer)\n",
    "conv2 = Conv2D(64, (3, 3), padding='same', activation='relu')(conv1)\n",
    "batch_norm1 = BatchNormalization()(conv2)\n",
    "maxpool1 = MaxPool2D(pool_size=(2, 2))(batch_norm1)\n",
    "dropout1 = Dropout(0.25)(maxpool1)\n",
    "\n",
    "conv3 = Conv2D(128, (5, 5), padding='same', activation='relu')(dropout1)\n",
    "batch_norm2 = BatchNormalization()(conv3)\n",
    "maxpool2 = MaxPool2D(pool_size=(2, 2))(batch_norm2)\n",
    "dropout2 = Dropout(0.25)(maxpool2)\n",
    "\n",
    "conv4 = Conv2D(512, (3, 3), padding='same', activation='relu', kernel_regularizer=regularizers.l2(0.01))(dropout2)\n",
    "batch_norm3 = BatchNormalization()(conv4)\n",
    "maxpool3 = MaxPool2D(pool_size=(2, 2))(batch_norm3)\n",
    "dropout3 = Dropout(0.25)(maxpool3)\n",
    "\n",
    "conv5 = Conv2D(512, (3, 3), padding='same', activation='relu', kernel_regularizer=regularizers.l2(0.01))(dropout3)\n",
    "batch_norm4 = BatchNormalization()(conv5)\n",
    "maxpool4 = MaxPool2D(pool_size=(2, 2))(batch_norm4)\n",
    "dropout4 = Dropout(0.25)(maxpool4)\n",
    "\n",
    "flatten = Flatten()(dropout4)\n",
    "dense1 = Dense(256, activation='relu')(flatten)\n",
    "batch_norm5 = BatchNormalization()(dense1)\n",
    "dropout5 = Dropout(0.25)(batch_norm5)\n",
    "\n",
    "dense2 = Dense(512, activation='relu')(dropout5)\n",
    "batch_norm6 = BatchNormalization()(dense2)\n",
    "dropout6 = Dropout(0.25)(batch_norm6)\n",
    "\n",
    "output_layer = Dense(7, activation='softmax')(dropout6)\n",
    "\n",
    "model = tf.keras.Model(inputs=input_layer, outputs=output_layer)\n",
    "model.compile(optimizer=Adam(lr=0.0001), loss='categorical_crossentropy', metrics=['accuracy'])\n",
    "model.summary()"
   ]
  },
  {
   "cell_type": "code",
   "execution_count": 8,
   "metadata": {},
   "outputs": [],
   "source": [
    "epochs = 45\n",
    "batch_size = 254"
   ]
  },
  {
   "cell_type": "code",
   "execution_count": 9,
   "metadata": {},
   "outputs": [
    {
     "name": "stdout",
     "output_type": "stream",
     "text": [
      "Epoch 1/45\n"
     ]
    },
    {
     "name": "stderr",
     "output_type": "stream",
     "text": [
      "2023-05-03 11:47:17.634588: W tensorflow/core/platform/profile_utils/cpu_utils.cc:128] Failed to get CPU frequency: 0 Hz\n",
      "2023-05-03 11:47:18.187219: I tensorflow/core/grappler/optimizers/custom_graph_optimizer_registry.cc:113] Plugin optimizer for device_type GPU is enabled.\n"
     ]
    },
    {
     "name": "stdout",
     "output_type": "stream",
     "text": [
      "359/359 [==============================] - ETA: 0s - loss: 9.1524 - accuracy: 0.2037"
     ]
    },
    {
     "name": "stderr",
     "output_type": "stream",
     "text": [
      "2023-05-03 11:48:07.108558: I tensorflow/core/grappler/optimizers/custom_graph_optimizer_registry.cc:113] Plugin optimizer for device_type GPU is enabled.\n"
     ]
    },
    {
     "name": "stdout",
     "output_type": "stream",
     "text": [
      "\n",
      "Epoch 1: val_loss improved from inf to 8.68637, saving model to bestmodelprediction.h5\n",
      "359/359 [==============================] - 51s 138ms/step - loss: 9.1524 - accuracy: 0.2037 - val_loss: 8.6864 - val_accuracy: 0.2472 - lr: 1.0000e-04\n",
      "Epoch 2/45\n",
      "359/359 [==============================] - ETA: 0s - loss: 8.0620 - accuracy: 0.2538\n",
      "Epoch 2: val_loss improved from 8.68637 to 7.48385, saving model to bestmodelprediction.h5\n",
      "359/359 [==============================] - 49s 136ms/step - loss: 8.0620 - accuracy: 0.2538 - val_loss: 7.4838 - val_accuracy: 0.2647 - lr: 1.0000e-04\n",
      "Epoch 3/45\n",
      "359/359 [==============================] - ETA: 0s - loss: 7.0402 - accuracy: 0.2902\n",
      "Epoch 3: val_loss improved from 7.48385 to 6.49336, saving model to bestmodelprediction.h5\n",
      "359/359 [==============================] - 49s 136ms/step - loss: 7.0402 - accuracy: 0.2902 - val_loss: 6.4934 - val_accuracy: 0.3073 - lr: 1.0000e-04\n",
      "Epoch 4/45\n",
      "359/359 [==============================] - ETA: 0s - loss: 6.0419 - accuracy: 0.3232\n",
      "Epoch 4: val_loss improved from 6.49336 to 5.66701, saving model to bestmodelprediction.h5\n",
      "359/359 [==============================] - 49s 136ms/step - loss: 6.0419 - accuracy: 0.3232 - val_loss: 5.6670 - val_accuracy: 0.3073 - lr: 1.0000e-04\n",
      "Epoch 5/45\n",
      "359/359 [==============================] - ETA: 0s - loss: 5.1183 - accuracy: 0.3631\n",
      "Epoch 5: val_loss improved from 5.66701 to 4.89694, saving model to bestmodelprediction.h5\n",
      "359/359 [==============================] - 49s 137ms/step - loss: 5.1183 - accuracy: 0.3631 - val_loss: 4.8969 - val_accuracy: 0.3352 - lr: 1.0000e-04\n",
      "Epoch 6/45\n",
      "359/359 [==============================] - ETA: 0s - loss: 4.3401 - accuracy: 0.3876\n",
      "Epoch 6: val_loss improved from 4.89694 to 3.91240, saving model to bestmodelprediction.h5\n",
      "359/359 [==============================] - 50s 140ms/step - loss: 4.3401 - accuracy: 0.3876 - val_loss: 3.9124 - val_accuracy: 0.4169 - lr: 1.0000e-04\n",
      "Epoch 7/45\n",
      "359/359 [==============================] - ETA: 0s - loss: 3.6766 - accuracy: 0.4148\n",
      "Epoch 7: val_loss improved from 3.91240 to 3.47333, saving model to bestmodelprediction.h5\n",
      "359/359 [==============================] - 50s 140ms/step - loss: 3.6766 - accuracy: 0.4148 - val_loss: 3.4733 - val_accuracy: 0.4190 - lr: 1.0000e-04\n",
      "Epoch 8/45\n",
      "359/359 [==============================] - ETA: 0s - loss: 3.1319 - accuracy: 0.4375\n",
      "Epoch 8: val_loss improved from 3.47333 to 2.83374, saving model to bestmodelprediction.h5\n",
      "359/359 [==============================] - 50s 138ms/step - loss: 3.1319 - accuracy: 0.4375 - val_loss: 2.8337 - val_accuracy: 0.4846 - lr: 1.0000e-04\n",
      "Epoch 9/45\n",
      "359/359 [==============================] - ETA: 0s - loss: 2.7150 - accuracy: 0.4654\n",
      "Epoch 9: val_loss improved from 2.83374 to 2.54917, saving model to bestmodelprediction.h5\n",
      "359/359 [==============================] - 50s 139ms/step - loss: 2.7150 - accuracy: 0.4654 - val_loss: 2.5492 - val_accuracy: 0.4700 - lr: 1.0000e-04\n",
      "Epoch 10/45\n",
      "359/359 [==============================] - ETA: 0s - loss: 2.3993 - accuracy: 0.4822\n",
      "Epoch 10: val_loss improved from 2.54917 to 2.27366, saving model to bestmodelprediction.h5\n",
      "359/359 [==============================] - 50s 140ms/step - loss: 2.3993 - accuracy: 0.4822 - val_loss: 2.2737 - val_accuracy: 0.5140 - lr: 1.0000e-04\n",
      "Epoch 11/45\n",
      "359/359 [==============================] - ETA: 0s - loss: 2.1586 - accuracy: 0.5029\n",
      "Epoch 11: val_loss improved from 2.27366 to 1.92687, saving model to bestmodelprediction.h5\n",
      "359/359 [==============================] - 53s 147ms/step - loss: 2.1586 - accuracy: 0.5029 - val_loss: 1.9269 - val_accuracy: 0.5740 - lr: 1.0000e-04\n",
      "Epoch 12/45\n",
      "359/359 [==============================] - ETA: 0s - loss: 1.9715 - accuracy: 0.5177\n",
      "Epoch 12: val_loss improved from 1.92687 to 1.84819, saving model to bestmodelprediction.h5\n",
      "359/359 [==============================] - 54s 149ms/step - loss: 1.9715 - accuracy: 0.5177 - val_loss: 1.8482 - val_accuracy: 0.5538 - lr: 1.0000e-04\n",
      "Epoch 13/45\n",
      "359/359 [==============================] - ETA: 0s - loss: 1.8401 - accuracy: 0.5328\n",
      "Epoch 13: val_loss improved from 1.84819 to 1.75284, saving model to bestmodelprediction.h5\n",
      "359/359 [==============================] - 58s 161ms/step - loss: 1.8401 - accuracy: 0.5328 - val_loss: 1.7528 - val_accuracy: 0.5475 - lr: 1.0000e-04\n",
      "Epoch 14/45\n",
      "359/359 [==============================] - ETA: 0s - loss: 1.7374 - accuracy: 0.5401\n",
      "Epoch 14: val_loss improved from 1.75284 to 1.64872, saving model to bestmodelprediction.h5\n",
      "359/359 [==============================] - 60s 167ms/step - loss: 1.7374 - accuracy: 0.5401 - val_loss: 1.6487 - val_accuracy: 0.5803 - lr: 1.0000e-04\n",
      "Epoch 15/45\n",
      "359/359 [==============================] - ETA: 0s - loss: 1.6635 - accuracy: 0.5475\n",
      "Epoch 15: val_loss did not improve from 1.64872\n",
      "359/359 [==============================] - 61s 171ms/step - loss: 1.6635 - accuracy: 0.5475 - val_loss: 1.7193 - val_accuracy: 0.5412 - lr: 1.0000e-04\n",
      "Epoch 16/45\n",
      "359/359 [==============================] - ETA: 0s - loss: 1.6071 - accuracy: 0.5565\n",
      "Epoch 16: val_loss did not improve from 1.64872\n",
      "359/359 [==============================] - 65s 182ms/step - loss: 1.6071 - accuracy: 0.5565 - val_loss: 1.7031 - val_accuracy: 0.5335 - lr: 1.0000e-04\n",
      "Epoch 17/45\n",
      "359/359 [==============================] - ETA: 0s - loss: 1.5612 - accuracy: 0.5645\n",
      "Epoch 17: val_loss improved from 1.64872 to 1.54127, saving model to bestmodelprediction.h5\n",
      "359/359 [==============================] - 66s 184ms/step - loss: 1.5612 - accuracy: 0.5645 - val_loss: 1.5413 - val_accuracy: 0.5789 - lr: 1.0000e-04\n",
      "Epoch 18/45\n",
      "359/359 [==============================] - ETA: 0s - loss: 1.5218 - accuracy: 0.5743\n",
      "Epoch 18: val_loss improved from 1.54127 to 1.48064, saving model to bestmodelprediction.h5\n",
      "359/359 [==============================] - 67s 187ms/step - loss: 1.5218 - accuracy: 0.5743 - val_loss: 1.4806 - val_accuracy: 0.5964 - lr: 1.0000e-04\n",
      "Epoch 19/45\n",
      "359/359 [==============================] - ETA: 0s - loss: 1.4912 - accuracy: 0.5819\n",
      "Epoch 19: val_loss improved from 1.48064 to 1.43438, saving model to bestmodelprediction.h5\n",
      "359/359 [==============================] - 69s 191ms/step - loss: 1.4912 - accuracy: 0.5819 - val_loss: 1.4344 - val_accuracy: 0.6117 - lr: 1.0000e-04\n",
      "Epoch 20/45\n",
      "359/359 [==============================] - ETA: 0s - loss: 1.4737 - accuracy: 0.5876\n",
      "Epoch 20: val_loss did not improve from 1.43438\n",
      "359/359 [==============================] - 71s 198ms/step - loss: 1.4737 - accuracy: 0.5876 - val_loss: 1.4991 - val_accuracy: 0.5873 - lr: 1.0000e-04\n",
      "Epoch 21/45\n",
      "359/359 [==============================] - ETA: 0s - loss: 1.4568 - accuracy: 0.5890\n",
      "Epoch 21: val_loss did not improve from 1.43438\n",
      "359/359 [==============================] - 73s 203ms/step - loss: 1.4568 - accuracy: 0.5890 - val_loss: 1.4442 - val_accuracy: 0.6075 - lr: 1.0000e-04\n",
      "Epoch 22/45\n",
      "359/359 [==============================] - ETA: 0s - loss: 1.4293 - accuracy: 0.5963\n",
      "Epoch 22: val_loss improved from 1.43438 to 1.38331, saving model to bestmodelprediction.h5\n",
      "359/359 [==============================] - 74s 206ms/step - loss: 1.4293 - accuracy: 0.5963 - val_loss: 1.3833 - val_accuracy: 0.6278 - lr: 1.0000e-04\n",
      "Epoch 23/45\n",
      "359/359 [==============================] - ETA: 0s - loss: 1.4227 - accuracy: 0.6016\n",
      "Epoch 23: val_loss improved from 1.38331 to 1.36420, saving model to bestmodelprediction.h5\n",
      "359/359 [==============================] - 75s 209ms/step - loss: 1.4227 - accuracy: 0.6016 - val_loss: 1.3642 - val_accuracy: 0.6250 - lr: 1.0000e-04\n",
      "Epoch 24/45\n",
      "359/359 [==============================] - ETA: 0s - loss: 1.4056 - accuracy: 0.6074\n",
      "Epoch 24: val_loss did not improve from 1.36420\n",
      "359/359 [==============================] - 77s 215ms/step - loss: 1.4056 - accuracy: 0.6074 - val_loss: 1.3927 - val_accuracy: 0.6187 - lr: 1.0000e-04\n",
      "Epoch 25/45\n",
      "359/359 [==============================] - ETA: 0s - loss: 1.4014 - accuracy: 0.6101\n",
      "Epoch 25: val_loss improved from 1.36420 to 1.35187, saving model to bestmodelprediction.h5\n",
      "359/359 [==============================] - 82s 228ms/step - loss: 1.4014 - accuracy: 0.6101 - val_loss: 1.3519 - val_accuracy: 0.6313 - lr: 1.0000e-04\n",
      "Epoch 26/45\n",
      "359/359 [==============================] - ETA: 0s - loss: 1.3888 - accuracy: 0.6147\n",
      "Epoch 26: val_loss did not improve from 1.35187\n",
      "359/359 [==============================] - 84s 234ms/step - loss: 1.3888 - accuracy: 0.6147 - val_loss: 1.3717 - val_accuracy: 0.6334 - lr: 1.0000e-04\n",
      "Epoch 27/45\n",
      "359/359 [==============================] - ETA: 0s - loss: 1.3848 - accuracy: 0.6170\n",
      "Epoch 27: val_loss did not improve from 1.35187\n",
      "359/359 [==============================] - 83s 232ms/step - loss: 1.3848 - accuracy: 0.6170 - val_loss: 1.4176 - val_accuracy: 0.6187 - lr: 1.0000e-04\n",
      "Epoch 28/45\n",
      "359/359 [==============================] - ETA: 0s - loss: 1.3821 - accuracy: 0.6188\n",
      "Epoch 28: val_loss improved from 1.35187 to 1.35171, saving model to bestmodelprediction.h5\n",
      "359/359 [==============================] - 88s 245ms/step - loss: 1.3821 - accuracy: 0.6188 - val_loss: 1.3517 - val_accuracy: 0.6334 - lr: 1.0000e-04\n",
      "Epoch 29/45\n",
      "359/359 [==============================] - ETA: 0s - loss: 1.3737 - accuracy: 0.6209\n",
      "Epoch 29: val_loss did not improve from 1.35171\n",
      "359/359 [==============================] - 88s 245ms/step - loss: 1.3737 - accuracy: 0.6209 - val_loss: 1.3560 - val_accuracy: 0.6473 - lr: 1.0000e-04\n",
      "Epoch 30/45\n",
      "359/359 [==============================] - ETA: 0s - loss: 1.3622 - accuracy: 0.6301\n",
      "Epoch 30: val_loss improved from 1.35171 to 1.33573, saving model to bestmodelprediction.h5\n",
      "359/359 [==============================] - 83s 231ms/step - loss: 1.3622 - accuracy: 0.6301 - val_loss: 1.3357 - val_accuracy: 0.6473 - lr: 1.0000e-04\n",
      "Epoch 31/45\n",
      "359/359 [==============================] - ETA: 0s - loss: 1.3568 - accuracy: 0.6317\n",
      "Epoch 31: val_loss did not improve from 1.33573\n",
      "359/359 [==============================] - 84s 233ms/step - loss: 1.3568 - accuracy: 0.6317 - val_loss: 1.4304 - val_accuracy: 0.6117 - lr: 1.0000e-04\n",
      "Epoch 32/45\n",
      "359/359 [==============================] - ETA: 0s - loss: 1.3462 - accuracy: 0.6388\n",
      "Epoch 32: val_loss improved from 1.33573 to 1.31859, saving model to bestmodelprediction.h5\n",
      "359/359 [==============================] - 85s 238ms/step - loss: 1.3462 - accuracy: 0.6388 - val_loss: 1.3186 - val_accuracy: 0.6536 - lr: 1.0000e-04\n",
      "Epoch 33/45\n",
      "359/359 [==============================] - ETA: 0s - loss: 1.3429 - accuracy: 0.6409\n",
      "Epoch 33: val_loss did not improve from 1.31859\n",
      "359/359 [==============================] - 88s 245ms/step - loss: 1.3429 - accuracy: 0.6409 - val_loss: 1.3712 - val_accuracy: 0.6432 - lr: 1.0000e-04\n",
      "Epoch 34/45\n",
      "359/359 [==============================] - ETA: 0s - loss: 1.3471 - accuracy: 0.6385\n",
      "Epoch 34: val_loss did not improve from 1.31859\n",
      "359/359 [==============================] - 91s 253ms/step - loss: 1.3471 - accuracy: 0.6385 - val_loss: 1.4485 - val_accuracy: 0.6131 - lr: 1.0000e-04\n",
      "Epoch 35/45\n",
      "359/359 [==============================] - ETA: 0s - loss: 1.3423 - accuracy: 0.6434\n",
      "Epoch 35: val_loss did not improve from 1.31859\n",
      "\n",
      "Epoch 35: ReduceLROnPlateau reducing learning rate to 1.9999999494757503e-05.\n",
      "359/359 [==============================] - 93s 259ms/step - loss: 1.3423 - accuracy: 0.6434 - val_loss: 1.3910 - val_accuracy: 0.6487 - lr: 1.0000e-04\n",
      "Epoch 36/45\n",
      "359/359 [==============================] - ETA: 0s - loss: 1.2820 - accuracy: 0.6651\n",
      "Epoch 36: val_loss improved from 1.31859 to 1.27923, saving model to bestmodelprediction.h5\n",
      "359/359 [==============================] - 94s 262ms/step - loss: 1.2820 - accuracy: 0.6651 - val_loss: 1.2792 - val_accuracy: 0.6732 - lr: 2.0000e-05\n",
      "Epoch 37/45\n",
      "359/359 [==============================] - ETA: 0s - loss: 1.2403 - accuracy: 0.6727\n",
      "Epoch 37: val_loss improved from 1.27923 to 1.26213, saving model to bestmodelprediction.h5\n",
      "359/359 [==============================] - 90s 250ms/step - loss: 1.2403 - accuracy: 0.6727 - val_loss: 1.2621 - val_accuracy: 0.6739 - lr: 2.0000e-05\n",
      "Epoch 38/45\n",
      "359/359 [==============================] - ETA: 0s - loss: 1.2105 - accuracy: 0.6814\n",
      "Epoch 38: val_loss improved from 1.26213 to 1.24986, saving model to bestmodelprediction.h5\n",
      "359/359 [==============================] - 76s 210ms/step - loss: 1.2105 - accuracy: 0.6814 - val_loss: 1.2499 - val_accuracy: 0.6732 - lr: 2.0000e-05\n",
      "Epoch 39/45\n",
      "359/359 [==============================] - ETA: 0s - loss: 1.1841 - accuracy: 0.6870\n",
      "Epoch 39: val_loss improved from 1.24986 to 1.24545, saving model to bestmodelprediction.h5\n",
      "359/359 [==============================] - 71s 197ms/step - loss: 1.1841 - accuracy: 0.6870 - val_loss: 1.2455 - val_accuracy: 0.6760 - lr: 2.0000e-05\n",
      "Epoch 40/45\n",
      "359/359 [==============================] - ETA: 0s - loss: 1.1608 - accuracy: 0.6941\n",
      "Epoch 40: val_loss did not improve from 1.24545\n",
      "359/359 [==============================] - 67s 187ms/step - loss: 1.1608 - accuracy: 0.6941 - val_loss: 1.2490 - val_accuracy: 0.6641 - lr: 2.0000e-05\n",
      "Epoch 41/45\n",
      "359/359 [==============================] - ETA: 0s - loss: 1.1492 - accuracy: 0.6913\n",
      "Epoch 41: val_loss improved from 1.24545 to 1.20933, saving model to bestmodelprediction.h5\n",
      "359/359 [==============================] - 65s 182ms/step - loss: 1.1492 - accuracy: 0.6913 - val_loss: 1.2093 - val_accuracy: 0.6767 - lr: 2.0000e-05\n",
      "Epoch 42/45\n",
      "359/359 [==============================] - ETA: 0s - loss: 1.1238 - accuracy: 0.6987\n",
      "Epoch 42: val_loss did not improve from 1.20933\n",
      "359/359 [==============================] - 65s 182ms/step - loss: 1.1238 - accuracy: 0.6987 - val_loss: 1.2132 - val_accuracy: 0.6858 - lr: 2.0000e-05\n",
      "Epoch 43/45\n",
      "359/359 [==============================] - ETA: 0s - loss: 1.1056 - accuracy: 0.7000\n",
      "Epoch 43: val_loss improved from 1.20933 to 1.20177, saving model to bestmodelprediction.h5\n",
      "359/359 [==============================] - 65s 181ms/step - loss: 1.1056 - accuracy: 0.7000 - val_loss: 1.2018 - val_accuracy: 0.6837 - lr: 2.0000e-05\n",
      "Epoch 44/45\n",
      "359/359 [==============================] - ETA: 0s - loss: 1.0908 - accuracy: 0.7047\n",
      "Epoch 44: val_loss improved from 1.20177 to 1.19480, saving model to bestmodelprediction.h5\n",
      "359/359 [==============================] - 62s 172ms/step - loss: 1.0908 - accuracy: 0.7047 - val_loss: 1.1948 - val_accuracy: 0.6872 - lr: 2.0000e-05\n",
      "Epoch 45/45\n",
      "359/359 [==============================] - ETA: 0s - loss: 1.0723 - accuracy: 0.7082\n",
      "Epoch 45: val_loss improved from 1.19480 to 1.19223, saving model to bestmodelprediction.h5\n",
      "359/359 [==============================] - 61s 170ms/step - loss: 1.0723 - accuracy: 0.7082 - val_loss: 1.1922 - val_accuracy: 0.6830 - lr: 2.0000e-05\n"
     ]
    }
   ],
   "source": [
    "history = model.fit(x = train_generator,epochs = epochs,validation_data = validation_generator, callbacks=[checkpoint, reduce_lr])"
   ]
  },
  {
   "cell_type": "code",
   "execution_count": 11,
   "metadata": {},
   "outputs": [
    {
     "data": {
      "text/plain": [
       "Text(0.5, 0, 'Epoch')"
      ]
     },
     "execution_count": 11,
     "metadata": {},
     "output_type": "execute_result"
    },
    {
     "data": {
      "image/png": "[encoded data removed]",
      "text/plain": [
       "<Figure size 1600x500 with 2 Axes>"
      ]
     },
     "metadata": {},
     "output_type": "display_data"
    }
   ],
   "source": [
    "epoch=45\n",
    "\n",
    "fig, ax = plt.subplots(ncols=2,figsize=(16,5))\n",
    "ax[0].plot(range(1,epoch+1),history.history['loss'],label='loss')\n",
    "ax[0].plot(range(1,epoch+1),history.history['val_loss'],label='val_loss')\n",
    "ax[0].set_title('Loss')\n",
    "ax[0].legend()\n",
    "ax[0].set_xlabel('Epoch')\n",
    "#ax[0].set_ylim(0,0.01)\n",
    "\n",
    "ax[1].plot(range(1,epoch+1),history.history['accuracy'],label='accuracy')\n",
    "ax[1].plot(range(1,epoch+1),history.history['val_accuracy'],label='val_accuracy')\n",
    "ax[1].set_title('Accuracy')\n",
    "ax[1].legend()\n",
    "ax[1].set_xlabel('Epoch')"
   ]
  }
 ],
 "metadata": {
  "kernelspec": {
   "display_name": "tensorflow",
   "language": "python",
   "name": "python3"
  },
  "language_info": {
   "codemirror_mode": {
    "name": "ipython",
    "version": 3
   },
   "file_extension": ".py",
   "mimetype": "text/x-python",
   "name": "python",
   "nbconvert_exporter": "python",
   "pygments_lexer": "ipython3",
   "version": "3.10.10"
  },
  "orig_nbformat": 4,
  "vscode": {
   "interpreter": {
    "hash": "73a20ee111e202b5885bf4967c631ad33e4dd2fc605a280f260d1da0f02a6410"
   }
  }
 },
 "nbformat": 4,
 "nbformat_minor": 2
}
